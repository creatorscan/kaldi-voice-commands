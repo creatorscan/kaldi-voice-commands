{
  "nbformat": 4,
  "nbformat_minor": 0,
  "metadata": {
    "colab": {
      "name": "rest_ASR.ipynb",
      "provenance": [],
      "authorship_tag": "ABX9TyPsZmBWPYJwtnCGB3F40bRG",
      "include_colab_link": true
    },
    "kernelspec": {
      "name": "python3",
      "display_name": "Python 3"
    }
  },
  "cells": [
    {
      "cell_type": "markdown",
      "metadata": {
        "id": "view-in-github",
        "colab_type": "text"
      },
      "source": [
        "<a href=\"https://colab.research.google.com/github/creatorscan/kaldi-voice-commands/blob/master/rest_ASR.ipynb\" target=\"_parent\"><img src=\"https://colab.research.google.com/assets/colab-badge.svg\" alt=\"Open In Colab\"/></a>"
      ]
    },
    {
      "cell_type": "code",
      "metadata": {
        "id": "YuV0HX4hLTVl",
        "colab_type": "code",
        "colab": {
          "base_uri": "https://localhost:8080/",
          "height": 278
        },
        "outputId": "c4363170-a6ac-401d-f555-077d665c868a"
      },
      "source": [
        "import requests\n",
        "response = requests.get('https://www.google.com') \n",
        "url = 'https://jsonplaceholder.typicode.com/todos/1' \n",
        "response = requests.get(url)        # To execute get request \n",
        "print(response.status_code)     # To print http response code  \n",
        "print(response.text) \n",
        "\n",
        "data = {'title':'Python Requests','body':'Requests are awesome','userId':1} \n",
        "response = requests.post('https://jsonplaceholder.typicode.com/posts', data) \n",
        "print(response.status_code) \n",
        "print(response.text) \n",
        "\n",
        "print(response.json())      # output: {'id': 101} "
      ],
      "execution_count": 9,
      "outputs": [
        {
          "output_type": "stream",
          "text": [
            "200\n",
            "{\n",
            "  \"userId\": 1,\n",
            "  \"id\": 1,\n",
            "  \"title\": \"delectus aut autem\",\n",
            "  \"completed\": false\n",
            "}\n",
            "201\n",
            "{\n",
            "  \"title\": \"Python Requests\",\n",
            "  \"body\": \"Requests are awesome\",\n",
            "  \"userId\": \"1\",\n",
            "  \"id\": 101\n",
            "}\n",
            "{'title': 'Python Requests', 'body': 'Requests are awesome', 'userId': '1', 'id': 101}\n"
          ],
          "name": "stdout"
        }
      ]
    }
  ]
}